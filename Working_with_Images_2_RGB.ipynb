{
 "cells": [
  {
   "cell_type": "code",
   "execution_count": 1,
   "id": "ccb4f799",
   "metadata": {},
   "outputs": [],
   "source": [
    "from PIL import Image"
   ]
  },
  {
   "cell_type": "code",
   "execution_count": 49,
   "id": "8adb1fd4",
   "metadata": {},
   "outputs": [],
   "source": [
    "# RGBA - Red, Green, Blue, Alpha\n",
    "# Transforming into jpg because png does't work with putalpha function.\n",
    "blue = Image.open('blue_color.png')\n",
    "im = Image.open(\"blue_color.png\")\n",
    "rgb_im = im.convert('RGB')\n",
    "rgb_im.save('blue_color.jpg')\n",
    "blue = Image.open('blue_color.jpg')"
   ]
  },
  {
   "cell_type": "code",
   "execution_count": 50,
   "id": "5660107b",
   "metadata": {},
   "outputs": [],
   "source": [
    "red = Image.open('red_color.jpg')"
   ]
  },
  {
   "cell_type": "code",
   "execution_count": 51,
   "id": "adffbfdc",
   "metadata": {},
   "outputs": [
    {
     "data": {
      "image/png": "[encoded data removed]",
      "text/plain": [
       "<PIL.JpegImagePlugin.JpegImageFile image mode=RGB size=200x200 at 0x1926EAF39D0>"
      ]
     },
     "execution_count": 51,
     "metadata": {},
     "output_type": "execute_result"
    }
   ],
   "source": [
    "red"
   ]
  },
  {
   "cell_type": "code",
   "execution_count": 52,
   "id": "554da908",
   "metadata": {},
   "outputs": [
    {
     "data": {
      "image/png": "[encoded data removed]",
      "text/plain": [
       "<PIL.JpegImagePlugin.JpegImageFile image mode=RGB size=200x200 at 0x1926EAF36D0>"
      ]
     },
     "execution_count": 52,
     "metadata": {},
     "output_type": "execute_result"
    }
   ],
   "source": [
    "blue"
   ]
  },
  {
   "cell_type": "code",
   "execution_count": 53,
   "id": "4f1c3e89",
   "metadata": {},
   "outputs": [],
   "source": [
    "blue.putalpha(128)"
   ]
  },
  {
   "cell_type": "code",
   "execution_count": 54,
   "id": "e433aec2",
   "metadata": {},
   "outputs": [
    {
     "data": {
      "image/png": "[encoded data removed]",
      "text/plain": [
       "<PIL.JpegImagePlugin.JpegImageFile image mode=RGBA size=200x200 at 0x1926EAF36D0>"
      ]
     },
     "execution_count": 54,
     "metadata": {},
     "output_type": "execute_result"
    }
   ],
   "source": [
    "blue"
   ]
  },
  {
   "cell_type": "code",
   "execution_count": 58,
   "id": "03321764",
   "metadata": {},
   "outputs": [],
   "source": [
    "red.putalpha(128)"
   ]
  },
  {
   "cell_type": "code",
   "execution_count": 59,
   "id": "e45ebd94",
   "metadata": {},
   "outputs": [
    {
     "data": {
      "image/png": "[encoded data removed]",
      "text/plain": [
       "<PIL.JpegImagePlugin.JpegImageFile image mode=RGBA size=200x200 at 0x1926EAF39D0>"
      ]
     },
     "execution_count": 59,
     "metadata": {},
     "output_type": "execute_result"
    }
   ],
   "source": [
    "red"
   ]
  },
  {
   "cell_type": "code",
   "execution_count": 60,
   "id": "1108c534",
   "metadata": {},
   "outputs": [],
   "source": [
    "blue.paste(im=red,box=(0,0),mask=red)"
   ]
  },
  {
   "cell_type": "code",
   "execution_count": 61,
   "id": "724611bc",
   "metadata": {},
   "outputs": [
    {
     "data": {
      "image/png": "[encoded data removed]",
      "text/plain": [
       "<PIL.JpegImagePlugin.JpegImageFile image mode=RGBA size=200x200 at 0x1926EAF36D0>"
      ]
     },
     "execution_count": 61,
     "metadata": {},
     "output_type": "execute_result"
    }
   ],
   "source": [
    "blue"
   ]
  },
  {
   "cell_type": "code",
   "execution_count": 62,
   "id": "b4b4f24d",
   "metadata": {},
   "outputs": [],
   "source": [
    "blue.save(\"purple.png\")"
   ]
  },
  {
   "cell_type": "code",
   "execution_count": 63,
   "id": "33882c70",
   "metadata": {},
   "outputs": [],
   "source": [
    "purple = Image.open(\"purple.png\")"
   ]
  },
  {
   "cell_type": "code",
   "execution_count": 64,
   "id": "715a244b",
   "metadata": {},
   "outputs": [
    {
     "data": {
      "image/png": "[encoded data removed]",
      "text/plain": [
       "<PIL.PngImagePlugin.PngImageFile image mode=RGBA size=200x200 at 0x1926EAF3460>"
      ]
     },
     "execution_count": 64,
     "metadata": {},
     "output_type": "execute_result"
    }
   ],
   "source": [
    "purple"
   ]
  },
  {
   "cell_type": "code",
   "execution_count": null,
   "id": "3eeb5330",
   "metadata": {},
   "outputs": [],
   "source": []
  }
 ],
 "metadata": {
  "kernelspec": {
   "display_name": "Python 3 (ipykernel)",
   "language": "python",
   "name": "python3"
  },
  "language_info": {
   "codemirror_mode": {
    "name": "ipython",
    "version": 3
   },
   "file_extension": ".py",
   "mimetype": "text/x-python",
   "name": "python",
   "nbconvert_exporter": "python",
   "pygments_lexer": "ipython3",
   "version": "3.9.12"
  }
 },
 "nbformat": 4,
 "nbformat_minor": 5
}
