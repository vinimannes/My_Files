{
 "cells": [
  {
   "cell_type": "code",
   "execution_count": 2,
   "id": "d7bbc263",
   "metadata": {},
   "outputs": [],
   "source": [
    "import random"
   ]
  },
  {
   "cell_type": "code",
   "execution_count": 234,
   "id": "7e58074d",
   "metadata": {},
   "outputs": [
    {
     "name": "stdout",
     "output_type": "stream",
     "text": [
      "3\n",
      "11\n",
      "9\n",
      "15\n",
      "9\n",
      "18\n",
      "12\n"
     ]
    }
   ],
   "source": [
    "num_gerado = list()\n",
    "num_max = 6\n",
    "contagem = 0\n",
    "\n",
    "while contagem < num_max:\n",
    "    r = random.randint(1,20)\n",
    "    print (r)\n",
    "    if r not in num_gerado:\n",
    "        contagem += 1\n",
    "        num_gerado.append(r)\n",
    "        \n",
    "num_gerado.sort()"
   ]
  },
  {
   "cell_type": "code",
   "execution_count": 235,
   "id": "b438d128",
   "metadata": {},
   "outputs": [
    {
     "data": {
      "text/plain": [
       "[3, 9, 11, 12, 15, 18]"
      ]
     },
     "execution_count": 235,
     "metadata": {},
     "output_type": "execute_result"
    }
   ],
   "source": [
    "num_gerado"
   ]
  },
  {
   "cell_type": "code",
   "execution_count": 236,
   "id": "1341a47a",
   "metadata": {},
   "outputs": [
    {
     "name": "stdout",
     "output_type": "stream",
     "text": [
      "Digite o 1 numero: 1\n",
      "Digite o 2 numero: 2\n",
      "Digite o 3 numero: 3\n",
      "Digite o 4 numero: 5\n",
      "Digite o 5 numero: 6\n",
      "Digite o 6 numero: 7\n",
      "Digite o 7 numero: 9\n",
      "Digite o 8 numero: 10\n",
      "Digite o 9 numero: 11\n",
      "Digite o 10 numero: 13\n",
      "Digite o 11 numero: 14\n",
      "Digite o 12 numero: 15\n",
      "Digite o 13 numero: 19\n",
      "Digite o 14 numero: 20\n",
      "Digite o 15 numero: 12\n"
     ]
    }
   ],
   "source": [
    "num_informado = list()\n",
    "num_max = 15\n",
    "contagem = 1\n",
    "\n",
    "while contagem <= num_max:\n",
    "    r = input(f\"Digite o {contagem} numero: \")\n",
    "    r = int(r)\n",
    "    if r not in num_informado and r >= 1 and r <=20 :\n",
    "        contagem += 1\n",
    "        num_informado.append(r)\n",
    "    else:\n",
    "        print(\"Esse numero ja existe ou eh numero que nao pode no jogo seu jumento!\")\n",
    "\n",
    "\n",
    "num_informado.sort()"
   ]
  },
  {
   "cell_type": "code",
   "execution_count": 237,
   "id": "c2166a52",
   "metadata": {},
   "outputs": [
    {
     "data": {
      "text/plain": [
       "[1, 2, 3, 5, 6, 7, 9, 10, 11, 12, 13, 14, 15, 19, 20]"
      ]
     },
     "execution_count": 237,
     "metadata": {},
     "output_type": "execute_result"
    }
   ],
   "source": [
    "num_informado"
   ]
  },
  {
   "cell_type": "code",
   "execution_count": 238,
   "id": "9830226f",
   "metadata": {},
   "outputs": [],
   "source": [
    "pontos = 0\n",
    "contagem = 0\n",
    "\n",
    "while contagem < 15:\n",
    "    if num_informado[contagem] in num_gerado:\n",
    "        pontos +=1\n",
    "        contagem += 1\n",
    "    else:\n",
    "        contagem += 1\n",
    "        "
   ]
  },
  {
   "cell_type": "code",
   "execution_count": 239,
   "id": "150f2ef4",
   "metadata": {},
   "outputs": [
    {
     "name": "stdout",
     "output_type": "stream",
     "text": [
      "Os numeros que voce informou foram: [1, 2, 3, 5, 6, 7, 9, 10, 11, 12, 13, 14, 15, 19, 20]\n",
      "Os numeros sorteados foram: [3, 9, 11, 12, 15, 18]\n"
     ]
    }
   ],
   "source": [
    "print(f\"Os numeros que voce informou foram: {num_informado}\")\n",
    "print(f\"Os numeros sorteados foram: {num_gerado}\")\n",
    "\n"
   ]
  },
  {
   "cell_type": "code",
   "execution_count": 240,
   "id": "65e6811f",
   "metadata": {},
   "outputs": [
    {
     "name": "stdout",
     "output_type": "stream",
     "text": [
      "Por pouco voce fica milionario! Voce acertou 5 numeros!\n"
     ]
    }
   ],
   "source": [
    "    if pontos < 4:\n",
    "        print(f\"Que Pena, Voce acertou {pontos} numeros!\")\n",
    "    elif pontos == 4:\n",
    "        print(f\"Quase la! Voce acertou {pontos} numeros!\")\n",
    "    elif pontos == 5:\n",
    "        print(f\"Por pouco voce fica milionario! Voce acertou {pontos} numeros!\")\n",
    "    else:\n",
    "        print(f\"Parabens novo milionario! Voce acertou {pontos} numeros!\")"
   ]
  },
  {
   "cell_type": "code",
   "execution_count": null,
   "id": "9a878005",
   "metadata": {},
   "outputs": [],
   "source": []
  }
 ],
 "metadata": {
  "kernelspec": {
   "display_name": "Python 3 (ipykernel)",
   "language": "python",
   "name": "python3"
  },
  "language_info": {
   "codemirror_mode": {
    "name": "ipython",
    "version": 3
   },
   "file_extension": ".py",
   "mimetype": "text/x-python",
   "name": "python",
   "nbconvert_exporter": "python",
   "pygments_lexer": "ipython3",
   "version": "3.9.12"
  }
 },
 "nbformat": 4,
 "nbformat_minor": 5
}
