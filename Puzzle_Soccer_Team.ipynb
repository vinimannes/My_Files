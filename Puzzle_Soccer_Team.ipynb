{
 "cells": [
  {
   "cell_type": "code",
   "execution_count": 20,
   "id": "9ebe7933",
   "metadata": {},
   "outputs": [],
   "source": [
    "class Time_Futebol:\n",
    "    def __init__(self, Nome, Torcida, Titulos):\n",
    "        self.Nome = Nome\n",
    "        self.Torcida = Torcida\n",
    "        self.Titulos = Titulos\n",
    "        \n",
    "    def Torcer(self):\n",
    "        print('Estou Torcendo')\n",
    "        \n",
    "    def Brigando(self):\n",
    "        print('Treta comendo solta')\n",
    "        \n",
    "    def Todos_Presos(self):\n",
    "        print('Todo mundo em cana')"
   ]
  },
  {
   "cell_type": "code",
   "execution_count": 15,
   "id": "cac4cae4",
   "metadata": {},
   "outputs": [],
   "source": [
    "Time_Futebol1 = Time_Futebol('Palmeiras', 'Gigante', 11)"
   ]
  },
  {
   "cell_type": "code",
   "execution_count": 16,
   "id": "fbf596ea",
   "metadata": {},
   "outputs": [
    {
     "name": "stdout",
     "output_type": "stream",
     "text": [
      "Palmeiras Gigante 11\n"
     ]
    }
   ],
   "source": [
    "print(Time_Futebol1.Nome, Time_Futebol1.Torcida, Time_Futebol1.Titulos)"
   ]
  },
  {
   "cell_type": "code",
   "execution_count": 17,
   "id": "1036a7de",
   "metadata": {},
   "outputs": [],
   "source": [
    "Time_Futebol2 = Time_Futebol('Flamengo', 'Minuscula', 8)"
   ]
  },
  {
   "cell_type": "code",
   "execution_count": 18,
   "id": "ffd589af",
   "metadata": {},
   "outputs": [],
   "source": [
    "Time_Futebol3 = Time_Futebol('Corinthians', 'Piquinininha', 7)"
   ]
  },
  {
   "cell_type": "code",
   "execution_count": 19,
   "id": "8176e5e0",
   "metadata": {},
   "outputs": [
    {
     "name": "stdout",
     "output_type": "stream",
     "text": [
      "Palmeiras Gigante 11\n",
      "Flamengo Minuscula 8\n",
      "Corinthians Piquinininha 7\n"
     ]
    }
   ],
   "source": [
    "print(Time_Futebol1.Nome, Time_Futebol1.Torcida, Time_Futebol1.Titulos)\n",
    "print(Time_Futebol2.Nome, Time_Futebol2.Torcida, Time_Futebol2.Titulos)\n",
    "print(Time_Futebol3.Nome, Time_Futebol3.Torcida, Time_Futebol3.Titulos)"
   ]
  },
  {
   "cell_type": "code",
   "execution_count": 21,
   "id": "19a110ee",
   "metadata": {},
   "outputs": [
    {
     "name": "stdout",
     "output_type": "stream",
     "text": [
      "Palmeiras Gigante 11\n"
     ]
    }
   ],
   "source": [
    "print(Time_Futebol1.Nome, Time_Futebol1.Torcida, Time_Futebol1.Titulos)"
   ]
  },
  {
   "cell_type": "code",
   "execution_count": 26,
   "id": "097ca393",
   "metadata": {},
   "outputs": [
    {
     "name": "stdout",
     "output_type": "stream",
     "text": [
      "Estou Torcendo\n"
     ]
    }
   ],
   "source": [
    "Time_Futebol.Torcer(Time_Futebol1)"
   ]
  },
  {
   "cell_type": "code",
   "execution_count": null,
   "id": "fa6a45d9",
   "metadata": {},
   "outputs": [],
   "source": []
  }
 ],
 "metadata": {
  "kernelspec": {
   "display_name": "Python 3 (ipykernel)",
   "language": "python",
   "name": "python3"
  },
  "language_info": {
   "codemirror_mode": {
    "name": "ipython",
    "version": 3
   },
   "file_extension": ".py",
   "mimetype": "text/x-python",
   "name": "python",
   "nbconvert_exporter": "python",
   "pygments_lexer": "ipython3",
   "version": "3.9.12"
  }
 },
 "nbformat": 4,
 "nbformat_minor": 5
}
