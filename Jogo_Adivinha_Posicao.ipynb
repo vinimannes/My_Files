{
 "cells": [
  {
   "cell_type": "code",
   "execution_count": 99,
   "id": "4688ada2",
   "metadata": {},
   "outputs": [],
   "source": [
    "from random import shuffle"
   ]
  },
  {
   "cell_type": "code",
   "execution_count": 122,
   "id": "3287b8df",
   "metadata": {},
   "outputs": [],
   "source": [
    "posicao_inicial = ['', '0', '']"
   ]
  },
  {
   "cell_type": "code",
   "execution_count": 123,
   "id": "623aa434",
   "metadata": {},
   "outputs": [],
   "source": [
    "def sortear(posicao_inicial):\n",
    "    shuffle(posicao_inicial)\n",
    "    return posicao_inicial"
   ]
  },
  {
   "cell_type": "code",
   "execution_count": 124,
   "id": "2edfe629",
   "metadata": {},
   "outputs": [],
   "source": [
    "posicao_sorteada = sortear(posicao_inicial)"
   ]
  },
  {
   "cell_type": "code",
   "execution_count": 125,
   "id": "18c08eed",
   "metadata": {},
   "outputs": [
    {
     "data": {
      "text/plain": [
       "['', '', '0']"
      ]
     },
     "execution_count": 125,
     "metadata": {},
     "output_type": "execute_result"
    }
   ],
   "source": [
    "posicao_sorteada"
   ]
  },
  {
   "cell_type": "code",
   "execution_count": 132,
   "id": "5c921380",
   "metadata": {},
   "outputs": [],
   "source": [
    "def adivinhando():\n",
    "    var = ''\n",
    "    while var not in ('0', '1', '2'):\n",
    "        var = input('Digite a posicao:')\n",
    "        \n",
    "    return int(var)"
   ]
  },
  {
   "cell_type": "code",
   "execution_count": 134,
   "id": "c9859ed7",
   "metadata": {},
   "outputs": [],
   "source": [
    "def resultado(posicao_sorteada, var):\n",
    "    if posicao_sorteada[var] == '0':\n",
    "        print('Tu eh o bichao pai, esqueca tudo!')\n",
    "        print(posicao_sorteada)\n",
    "    else:\n",
    "        print('Tente outraaaa veeeeeeeeez.')\n",
    "        print(posicao_sorteada)\n",
    "    "
   ]
  },
  {
   "cell_type": "code",
   "execution_count": 137,
   "id": "6e6179bb",
   "metadata": {},
   "outputs": [
    {
     "name": "stdout",
     "output_type": "stream",
     "text": [
      "Digite a posicao:1\n",
      "Tu eh o bichao pai, esqueca tudo!\n",
      "['', '0', '']\n"
     ]
    }
   ],
   "source": [
    "#Definindo Inicio Game\n",
    "lista_inicial = ['0', '', '']\n",
    "\n",
    "#Sorteando numeros\n",
    "posicao_sorteada = sortear(lista_inicial)\n",
    "\n",
    "#Recebendo o numero\n",
    "var = adivinhando()\n",
    "\n",
    "#Resultado\n",
    "resultado(posicao_sorteada, var)"
   ]
  },
  {
   "cell_type": "code",
   "execution_count": null,
   "id": "d4328f01",
   "metadata": {},
   "outputs": [],
   "source": []
  }
 ],
 "metadata": {
  "kernelspec": {
   "display_name": "Python 3 (ipykernel)",
   "language": "python",
   "name": "python3"
  },
  "language_info": {
   "codemirror_mode": {
    "name": "ipython",
    "version": 3
   },
   "file_extension": ".py",
   "mimetype": "text/x-python",
   "name": "python",
   "nbconvert_exporter": "python",
   "pygments_lexer": "ipython3",
   "version": "3.9.12"
  }
 },
 "nbformat": 4,
 "nbformat_minor": 5
}
